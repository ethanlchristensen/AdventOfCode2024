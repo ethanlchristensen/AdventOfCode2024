{
 "cells": [
  {
   "cell_type": "code",
   "execution_count": 10,
   "metadata": {},
   "outputs": [
    {
     "name": "stdout",
     "output_type": "stream",
     "text": [
      "4\n",
      "4\n"
     ]
    }
   ],
   "source": [
    "def count_edges(grid):\n",
    "    if not grid or not grid[0]:\n",
    "        return 0\n",
    "    \n",
    "    rows = len(grid)\n",
    "    cols = len(grid[0])\n",
    "    edges = 0\n",
    "    \n",
    "    directions = [(0, 1), (1, 0)]  # right and down only\n",
    "    \n",
    "    for i in range(rows):\n",
    "        for j in range(cols):\n",
    "            if grid[i][j] == 1:\n",
    "                # Check right and down directions only\n",
    "                for di, dj in directions:\n",
    "                    ni, nj = i + di, j + dj\n",
    "                    # If we're at a boundary or next cell is 0\n",
    "                    if (ni >= rows or nj >= cols or grid[ni][nj] == 0):\n",
    "                        edges += 1\n",
    "    \n",
    "    return edges\n",
    "\n",
    "# Test with your example\n",
    "grid = [\n",
    "    [0, 1, 0, 0],\n",
    "    [1, 1, 1, 0],\n",
    "    [0, 1, 0, 0],\n",
    "    [1, 1, 0, 0]\n",
    "]\n",
    "\n",
    "print(count_edges(grid))  # Output: 4"
   ]
  }
 ],
 "metadata": {
  "kernelspec": {
   "display_name": "Python 3",
   "language": "python",
   "name": "python3"
  },
  "language_info": {
   "codemirror_mode": {
    "name": "ipython",
    "version": 3
   },
   "file_extension": ".py",
   "mimetype": "text/x-python",
   "name": "python",
   "nbconvert_exporter": "python",
   "pygments_lexer": "ipython3",
   "version": "3.11.5"
  }
 },
 "nbformat": 4,
 "nbformat_minor": 2
}
